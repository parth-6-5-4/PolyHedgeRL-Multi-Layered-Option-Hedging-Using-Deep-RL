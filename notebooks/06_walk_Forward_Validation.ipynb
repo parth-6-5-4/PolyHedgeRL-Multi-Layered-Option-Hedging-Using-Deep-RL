{
 "cells": [
  {
   "cell_type": "markdown",
   "id": "8d0a412d",
   "metadata": {},
   "source": [
    "# 06_Walk_Forward_Validation\n",
    "\n",
    "Perform rolling walk-forward train/test splits and validate out-of-sample agent performance.\n"
   ]
  },
  {
   "cell_type": "code",
   "execution_count": null,
   "id": "e01e7840",
   "metadata": {},
   "outputs": [],
   "source": [
    "from src.agents.ppo_agent import PPOAgent\n",
    "from src.agents.evaluation import evaluate_model\n",
    "from src.environment.Multi_asset_env import MultiAsset21DeepHedgingEnv\n",
    "from src.environment.option_pricing import create_synthetic_option_chain\n",
    "from src.utils.data_utils import download_market_data\n",
    "from src.config.settings import get_config\n",
    "\n",
    "import pandas as pd\n",
    "import matplotlib.pyplot as plt\n",
    "\n",
    "cfg = get_config('data')\n",
    "df = download_market_data(**cfg)\n",
    "option_chain = create_synthetic_option_chain(df, get_config('option'))\n",
    "\n",
    "strikes = get_config('option')['strike_offsets']\n",
    "expiries = get_config('option')['expiry_days']\n",
    "types_ = get_config('option')['option_types']\n",
    "asset_universe = [{'strike_offset': s, 'expiry_days': e, 'type': t}\n",
    "                  for e in expiries for s in strikes for t in types_]\n"
   ]
  },
  {
   "cell_type": "code",
   "execution_count": null,
   "id": "b3c78e7d",
   "metadata": {},
   "outputs": [],
   "source": [
    "train_years = 3\n",
    "test_years = 1\n",
    "\n",
    "all_dates = df['date'].sort_values().unique()\n",
    "first_date = all_dates[0]\n",
    "last_date = all_dates[-1]\n",
    "\n",
    "results_wf = []\n",
    "current_start = first_date\n",
    "\n",
    "while True:\n",
    "    train_start = current_start\n",
    "    train_end = train_start + pd.DateOffset(years=train_years) - pd.Timedelta(days=1)\n",
    "    test_start = train_end + pd.Timedelta(days=1)\n",
    "    test_end = test_start + pd.DateOffset(years=test_years) - pd.Timedelta(days=1)\n",
    "    \n",
    "    if test_end > last_date:\n",
    "        break\n",
    "\n",
    "    df_train = df[(df['date'] >= train_start) & (df['date'] <= train_end)].reset_index(drop=True)\n",
    "    chain_train = create_synthetic_option_chain(df_train, get_config('option'))\n",
    "    df_test = df[(df['date'] >= test_start) & (df['date'] <= test_end)].reset_index(drop=True)\n",
    "    chain_test = create_synthetic_option_chain(df_test, get_config('option'))\n",
    "\n",
    "    if len(df_train) < 100 or len(df_test) < 50:\n",
    "        break\n",
    "\n",
    "    env_train = MultiAsset21DeepHedgingEnv(df_train, chain_train, asset_universe)\n",
    "    agent = PPOAgent(env_train)\n",
    "    model = agent.create_model()\n",
    "    model.learn(total_timesteps=15000)\n",
    "\n",
    "    env_test = MultiAsset21DeepHedgingEnv(df_test, chain_test, asset_universe)\n",
    "    metrics = evaluate_model(model, env_test, episodes=5)\n",
    "    results_wf.append({'train_start': train_start, 'train_end': train_end, 'test_start': test_start, 'test_end': test_end,\n",
    "                       'sharpe': metrics['sharpe_ratio'], 'mean_reward': metrics['mean_reward'] })\n",
    "\n",
    "    current_start = current_start + pd.DateOffset(years=test_years)\n",
    "\n",
    "wf_summary = pd.DataFrame(results_wf)\n",
    "wf_summary['test_end'] = pd.to_datetime(wf_summary['test_end'])\n",
    "wf_summary\n"
   ]
  },
  {
   "cell_type": "markdown",
   "id": "99e91cfb",
   "metadata": {},
   "source": [
    "## 6.2 Walk-Forward OOS Performance\n"
   ]
  },
  {
   "cell_type": "code",
   "execution_count": null,
   "id": "09f5e971",
   "metadata": {},
   "outputs": [],
   "source": [
    "plt.plot(wf_summary['test_end'], wf_summary['sharpe'], marker='o', label='Walk-forward OOS Sharpe')\n",
    "plt.title(\"Walk-forward Out-of-Sample Sharpe Ratio\")\n",
    "plt.xlabel(\"End of Test Period\")\n",
    "plt.ylabel(\"Sharpe Ratio\")\n",
    "plt.grid()\n",
    "plt.show()\n"
   ]
  },
  {
   "cell_type": "code",
   "execution_count": null,
   "id": "511eb1e5",
   "metadata": {},
   "outputs": [],
   "source": [
    "plt.plot(wf_summary['test_end'], wf_summary['mean_reward'], marker='s', label='Walk-forward OOS PnL')\n",
    "plt.title(\"Walk-forward Out-of-Sample Mean Reward\")\n",
    "plt.xlabel(\"End of Test Period\")\n",
    "plt.ylabel(\"Mean Reward\")\n",
    "plt.grid()\n",
    "plt.show()\n"
   ]
  }
 ],
 "metadata": {
  "language_info": {
   "name": "python"
  }
 },
 "nbformat": 4,
 "nbformat_minor": 5
}
