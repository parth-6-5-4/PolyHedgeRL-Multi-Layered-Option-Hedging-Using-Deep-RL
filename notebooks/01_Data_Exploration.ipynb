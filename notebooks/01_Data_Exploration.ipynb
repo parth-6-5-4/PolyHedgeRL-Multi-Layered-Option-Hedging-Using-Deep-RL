{
 "cells": [
  {
   "cell_type": "markdown",
   "id": "8ce184c6",
   "metadata": {
    "vscode": {
     "languageId": "plaintext"
    }
   },
   "source": [
    "# 01_Data_Exploration\n",
    "\n",
    "This notebook performs data acquisition, cleaning, and exploratory analysis on the S&P 500 spot data.\n"
   ]
  },
  {
   "cell_type": "code",
   "execution_count": null,
   "id": "c88b7046",
   "metadata": {},
   "outputs": [],
   "source": [
    "# 1.1 Install & Import\n",
    "%pip install yfinance pandas numpy matplotlib seaborn\n",
    "\n",
    "import pandas as pd\n",
    "import numpy as np\n",
    "import matplotlib.pyplot as plt\n",
    "import seaborn as sns\n",
    "\n",
    "from src.utils.data_utils import download_market_data, calculate_rolling_metrics\n",
    "from src.config.settings import get_config\n",
    "\n",
    "%matplotlib inline\n"
   ]
  },
  {
   "cell_type": "code",
   "execution_count": null,
   "id": "55715cf9",
   "metadata": {},
   "outputs": [],
   "source": [
    "# 1.2 Load or Download Data\n",
    "cfg = get_config('data')\n",
    "df = download_market_data(\n",
    "    symbol=cfg['symbol'],\n",
    "    start_date=cfg['start_date'],\n",
    "    end_date=cfg['end_date'],\n",
    "    interval=cfg['interval']\n",
    ")\n",
    "df = calculate_rolling_metrics(df)\n",
    "df.head()\n"
   ]
  },
  {
   "cell_type": "markdown",
   "id": "84b95799",
   "metadata": {},
   "source": [
    "## 1.3 Summary Statistics\n"
   ]
  },
  {
   "cell_type": "code",
   "execution_count": null,
   "id": "5780e782",
   "metadata": {},
   "outputs": [],
   "source": [
    "df.describe().T\n"
   ]
  },
  {
   "cell_type": "markdown",
   "id": "a79323ad",
   "metadata": {},
   "source": [
    "## 1.4 Time Series Plots\n"
   ]
  },
  {
   "cell_type": "code",
   "execution_count": null,
   "id": "91c132df",
   "metadata": {},
   "outputs": [],
   "source": [
    "fig, axes = plt.subplots(2,1, figsize=(12,8))\n",
    "axes[0].plot(df['date'], df['close'])\n",
    "axes[0].set_title(\"S&P 500 Close Price\")\n",
    "axes[1].plot(df['date'], df['realized_vol_10d'])\n",
    "axes[1].set_title(\"10-Day Realized Volatility\")\n",
    "plt.tight_layout()\n"
   ]
  },
  {
   "cell_type": "markdown",
   "id": "959d9412",
   "metadata": {},
   "source": [
    "## 1.5 Correlation of Features\n"
   ]
  },
  {
   "cell_type": "code",
   "execution_count": null,
   "id": "bfd419c1",
   "metadata": {},
   "outputs": [],
   "source": [
    "corr = df[['return','vol_10d','vol_20d','momentum_5d','momentum_20d']].corr()\n",
    "sns.heatmap(corr, annot=True, cmap='coolwarm')\n",
    "plt.title(\"Feature Correlation Matrix\")\n"
   ]
  }
 ],
 "metadata": {
  "kernelspec": {
   "display_name": "base",
   "language": "python",
   "name": "python3"
  },
  "language_info": {
   "name": "python",
   "version": "3.12.7"
  }
 },
 "nbformat": 4,
 "nbformat_minor": 5
}
