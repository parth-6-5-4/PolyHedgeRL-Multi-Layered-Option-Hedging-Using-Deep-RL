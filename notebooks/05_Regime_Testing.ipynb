{
 "cells": [
  {
   "cell_type": "markdown",
   "id": "443f6013",
   "metadata": {},
   "source": [
    "# 05_Regime_Testing\n",
    "\n",
    "Evaluate the trained RL agent's robustness across different market regimes (bull, bear, high volatility, sideways).\n"
   ]
  },
  {
   "cell_type": "code",
   "execution_count": null,
   "id": "f4f84c30",
   "metadata": {},
   "outputs": [],
   "source": [
    "from src.agents.ppo_agent import PPOAgent\n",
    "from src.agents.evaluation import evaluate_model\n",
    "from src.environment.multi_asset_env import MultiAsset21DeepHedgingEnv\n",
    "from src.environment.option_pricing import create_synthetic_option_chain\n",
    "from src.utils.data_utils import download_market_data\n",
    "from src.environment.market_data import MarketDataHandler\n",
    "from src.config.settings import get_config\n",
    "import matplotlib.pyplot as plt\n",
    "\n",
    "# Prepare spot and option chain\n",
    "cfg = get_config('data')\n",
    "df = download_market_data(**cfg)\n",
    "option_chain = create_synthetic_option_chain(df, get_config('option'))\n",
    "\n",
    "strikes = get_config('option')['strike_offsets']\n",
    "expiries = get_config('option')['expiry_days']\n",
    "types_ = get_config('option')['option_types']\n",
    "asset_universe = [{'strike_offset': s, 'expiry_days': e, 'type': t}\n",
    "                  for e in expiries for s in strikes for t in types_]\n",
    "\n",
    "handler = MarketDataHandler()\n",
    "regime_data = handler.get_regime_data(df)\n"
   ]
  },
  {
   "cell_type": "code",
   "execution_count": null,
   "id": "283371e5",
   "metadata": {},
   "outputs": [],
   "source": [
    "metrics_by_regime = []\n",
    "\n",
    "for regime_name, df_reg in regime_data.items():\n",
    "    opt_chain_reg = create_synthetic_option_chain(df_reg, get_config('option'))\n",
    "    env = MultiAsset21DeepHedgingEnv(df_reg, opt_chain_reg, asset_universe)\n",
    "    agent = PPOAgent(env)\n",
    "    model = agent.create_model()\n",
    "    model.learn(total_timesteps=15000)\n",
    "    metrics = evaluate_model(model, env, episodes=10)\n",
    "    metrics.update({'regime': regime_name})\n",
    "    metrics_by_regime.append(metrics)\n",
    "    print(f\"{regime_name} | Sharpe: {metrics['sharpe_ratio']:.2f}, Mean reward: {metrics['mean_reward']:.2f}\")\n"
   ]
  },
  {
   "cell_type": "code",
   "execution_count": null,
   "id": "f22b3cda",
   "metadata": {},
   "outputs": [],
   "source": [
    "import pandas as pd\n",
    "regime_summary = pd.DataFrame(metrics_by_regime)\n",
    "display(regime_summary)\n"
   ]
  },
  {
   "cell_type": "markdown",
   "id": "b4d301c6",
   "metadata": {},
   "source": [
    "## 5.2 Visualize Regime Performance\n"
   ]
  },
  {
   "cell_type": "code",
   "execution_count": null,
   "id": "281d50e7",
   "metadata": {},
   "outputs": [],
   "source": [
    "regime_summary.set_index('regime')['sharpe_ratio'].plot(kind='bar', title='Sharpe Ratio by Market Regime')\n",
    "plt.ylabel('Sharpe Ratio')\n",
    "plt.show()\n",
    "\n",
    "regime_summary.set_index('regime')['mean_reward'].plot(kind='bar', title='Mean Reward by Market Regime')\n",
    "plt.ylabel('Mean Reward per Episode')\n",
    "plt.show()\n"
   ]
  }
 ],
 "metadata": {
  "language_info": {
   "name": "python"
  }
 },
 "nbformat": 4,
 "nbformat_minor": 5
}
