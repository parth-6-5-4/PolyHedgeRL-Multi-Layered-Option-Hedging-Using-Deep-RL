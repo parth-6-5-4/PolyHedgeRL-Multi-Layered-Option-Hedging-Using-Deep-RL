{
 "cells": [
  {
   "cell_type": "markdown",
   "id": "b44bbe1a",
   "metadata": {},
   "source": [
    "# 04_Parameter_Analysis\n",
    "\n",
    "Run systematic parameter sweeps (transaction cost, risk penalty) and summarize the effects on agent robustness.\n"
   ]
  },
  {
   "cell_type": "code",
   "execution_count": null,
   "id": "2cbe0707",
   "metadata": {},
   "outputs": [],
   "source": [
    "from src.environment.multi_asset_env import MultiAsset21DeepHedgingEnv\n",
    "from src.agents.ppo_agent import PPOAgent\n",
    "from src.agents.evaluation import evaluate_model, summary_to_dataframe\n",
    "from src.utils.data_utils import download_market_data\n",
    "from src.environment.option_pricing import create_synthetic_option_chain\n",
    "from src.config.settings import get_config\n",
    "import matplotlib.pyplot as plt\n",
    "\n",
    "df = download_market_data(**get_config('data'))\n",
    "option_chain = create_synthetic_option_chain(df, get_config('option'))\n",
    "\n",
    "strikes = get_config('option')['strike_offsets']\n",
    "expiries = get_config('option')['expiry_days']\n",
    "types_ = get_config('option')['option_types']\n",
    "asset_universe = [{'strike_offset': s,'expiry_days':e,'type':t} for e in expiries for s in strikes for t in types_]\n"
   ]
  },
  {
   "cell_type": "code",
   "execution_count": null,
   "id": "2e7bed44",
   "metadata": {},
   "outputs": [],
   "source": [
    "costs = [0.0001, 0.001, 0.005]\n",
    "risks = [0.005, 0.01, 0.05]\n",
    "results = []\n",
    "\n",
    "for cost in costs:\n",
    "    for risk in risks:\n",
    "        print(f\\\"Training for cost={cost}, risk_penalty={risk}\\\")\n",
    "        env = MultiAsset21DeepHedgingEnv(df, option_chain, asset_universe,\n",
    "                                         config_name='env')\n",
    "        env.transaction_cost = cost\n",
    "        env.risk_penalty = risk\n",
    "        agent = PPOAgent(env)\n",
    "        model = agent.create_model()\n",
    "        model.learn(total_timesteps=15000)\n",
    "        metrics = evaluate_model(model, env, episodes=10)\n",
    "        results.append({'tx_cost': cost, 'risk_pen': risk,\n",
    "                        'final_pnl': metrics['mean_reward']*10,\n",
    "                        'avg_reward': metrics['mean_reward'],\n",
    "                        'sharpe': metrics['sharpe_ratio']})\n",
    "        print(f\\\"Final PnL: {metrics['mean_reward']*10:.2f}, Sharpe: {metrics['sharpe_ratio']:.2f}\\\")"
   ]
  },
  {
   "cell_type": "code",
   "execution_count": null,
   "id": "6ca455f0",
   "metadata": {},
   "outputs": [],
   "source": [
    "summary = summary_to_dataframe(results)\n",
    "print(summary)\n"
   ]
  },
  {
   "cell_type": "markdown",
   "id": "f874b0f0",
   "metadata": {},
   "source": [
    "## 4.2 Plot Parameter Sensitivity\n"
   ]
  },
  {
   "cell_type": "code",
   "execution_count": null,
   "id": "de14aceb",
   "metadata": {},
   "outputs": [],
   "source": [
    "import seaborn as sns\n",
    "pivot = summary.pivot(index='tx_cost', columns='risk_pen', values='sharpe')\n",
    "sns.heatmap(pivot, annot=True, cmap='viridis')\n",
    "plt.title(\\\"Sharpe Sensitivity to Params\\\")\n",
    "plt.ylabel(\\\"Transaction Cost\\\")\n",
    "plt.xlabel(\\\"Risk Penalty\\\")\n",
    "plt.show()\n"
   ]
  }
 ],
 "metadata": {
  "language_info": {
   "name": "python"
  }
 },
 "nbformat": 4,
 "nbformat_minor": 5
}
